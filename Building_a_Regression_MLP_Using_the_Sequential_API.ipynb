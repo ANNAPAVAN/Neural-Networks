{
  "nbformat": 4,
  "nbformat_minor": 0,
  "metadata": {
    "colab": {
      "provenance": [],
      "authorship_tag": "ABX9TyNRkoC0bdNqYMCGx2Y+a404"
    },
    "kernelspec": {
      "name": "python3",
      "display_name": "Python 3"
    },
    "language_info": {
      "name": "python"
    }
  },
  "cells": [
    {
      "cell_type": "markdown",
      "source": [
        "**California Housing dataset**"
      ],
      "metadata": {
        "id": "O2POmwXi0Mf5"
      }
    },
    {
      "cell_type": "code",
      "execution_count": 2,
      "metadata": {
        "id": "mxEwjpDjyX_L"
      },
      "outputs": [],
      "source": [
        "\n",
        "from sklearn.datasets import fetch_california_housing\n",
        "from sklearn.metrics import mean_squared_error\n",
        "from sklearn.model_selection import train_test_split\n",
        "from sklearn.neural_network import MLPRegressor\n",
        "from sklearn.preprocessing import StandardScaler"
      ]
    },
    {
      "cell_type": "code",
      "source": [
        "housing = fetch_california_housing()\n",
        "X_train_full, X_test, y_train_full, y_test = train_test_split(\n",
        "housing.data, housing.target, random_state=42)\n",
        "X_train, X_valid, y_train, y_valid = train_test_split(\n",
        "X_train_full, y_train_full, random_state=42)"
      ],
      "metadata": {
        "id": "UDeaOM37ynMj"
      },
      "execution_count": 4,
      "outputs": []
    },
    {
      "cell_type": "code",
      "source": [
        "import tensorflow as tf\n"
      ],
      "metadata": {
        "id": "FN8NBv6nynkl"
      },
      "execution_count": 5,
      "outputs": []
    },
    {
      "cell_type": "code",
      "source": [
        " tf.random.set_seed(42)"
      ],
      "metadata": {
        "id": "6IMHJtFWy6PU"
      },
      "execution_count": 6,
      "outputs": []
    },
    {
      "cell_type": "code",
      "source": [
        "norm_layer = tf.keras.layers.Normalization(input_shape=X_train.shape[1:])\n"
      ],
      "metadata": {
        "id": "ysV1mJPGy66J"
      },
      "execution_count": 8,
      "outputs": []
    },
    {
      "cell_type": "code",
      "source": [
        " model = tf.keras.Sequential([\n",
        "    norm_layer,\n",
        "    tf.keras.layers.Dense(50, activation=\"relu\"),\n",
        "    tf.keras.layers.Dense(50, activation=\"relu\"),\n",
        "    tf.keras.layers.Dense(50, activation=\"relu\"),\n",
        "    tf.keras.layers.Dense(1)\n",
        " ])"
      ],
      "metadata": {
        "id": "B4z7QcDZy-TZ"
      },
      "execution_count": 9,
      "outputs": []
    },
    {
      "cell_type": "code",
      "source": [
        " optimizer = tf.keras.optimizers.Adam(learning_rate=1e-3)\n"
      ],
      "metadata": {
        "id": "-rpDTFxpzDiu"
      },
      "execution_count": 10,
      "outputs": []
    },
    {
      "cell_type": "code",
      "source": [
        "model.compile(loss=\"mse\", optimizer=optimizer, metrics=[\"RootMeanSquaredError\"])\n"
      ],
      "metadata": {
        "id": "hKYePKmJzGR7"
      },
      "execution_count": 11,
      "outputs": []
    },
    {
      "cell_type": "code",
      "source": [
        "norm_layer.adapt(X_train)\n"
      ],
      "metadata": {
        "id": "pShZf4hvzIWY"
      },
      "execution_count": 12,
      "outputs": []
    },
    {
      "cell_type": "code",
      "source": [
        "history = model.fit(X_train, y_train, epochs=20,\n",
        " validation_data=(X_valid, y_valid))"
      ],
      "metadata": {
        "colab": {
          "base_uri": "https://localhost:8080/"
        },
        "id": "-WCNGVMhzLC_",
        "outputId": "006885aa-91f5-4b76-b14c-e43e30fe5646"
      },
      "execution_count": 13,
      "outputs": [
        {
          "output_type": "stream",
          "name": "stdout",
          "text": [
            "Epoch 1/20\n",
            "363/363 [==============================] - 4s 6ms/step - loss: 0.9516 - root_mean_squared_error: 0.9755 - val_loss: 0.3809 - val_root_mean_squared_error: 0.6171\n",
            "Epoch 2/20\n",
            "363/363 [==============================] - 1s 4ms/step - loss: 0.3789 - root_mean_squared_error: 0.6156 - val_loss: 1.2313 - val_root_mean_squared_error: 1.1096\n",
            "Epoch 3/20\n",
            "363/363 [==============================] - 1s 3ms/step - loss: 0.3693 - root_mean_squared_error: 0.6077 - val_loss: 0.3764 - val_root_mean_squared_error: 0.6136\n",
            "Epoch 4/20\n",
            "363/363 [==============================] - 1s 2ms/step - loss: 0.3473 - root_mean_squared_error: 0.5894 - val_loss: 0.3485 - val_root_mean_squared_error: 0.5903\n",
            "Epoch 5/20\n",
            "363/363 [==============================] - 1s 3ms/step - loss: 0.3393 - root_mean_squared_error: 0.5825 - val_loss: 0.6996 - val_root_mean_squared_error: 0.8364\n",
            "Epoch 6/20\n",
            "363/363 [==============================] - 1s 3ms/step - loss: 0.3331 - root_mean_squared_error: 0.5772 - val_loss: 1.5666 - val_root_mean_squared_error: 1.2516\n",
            "Epoch 7/20\n",
            "363/363 [==============================] - 1s 3ms/step - loss: 0.3309 - root_mean_squared_error: 0.5753 - val_loss: 0.6609 - val_root_mean_squared_error: 0.8130\n",
            "Epoch 8/20\n",
            "363/363 [==============================] - 1s 3ms/step - loss: 0.3152 - root_mean_squared_error: 0.5614 - val_loss: 1.1216 - val_root_mean_squared_error: 1.0590\n",
            "Epoch 9/20\n",
            "363/363 [==============================] - 1s 3ms/step - loss: 0.3115 - root_mean_squared_error: 0.5581 - val_loss: 0.8148 - val_root_mean_squared_error: 0.9026\n",
            "Epoch 10/20\n",
            "363/363 [==============================] - 1s 3ms/step - loss: 0.3059 - root_mean_squared_error: 0.5531 - val_loss: 0.5945 - val_root_mean_squared_error: 0.7711\n",
            "Epoch 11/20\n",
            "363/363 [==============================] - 1s 3ms/step - loss: 0.2951 - root_mean_squared_error: 0.5432 - val_loss: 0.3052 - val_root_mean_squared_error: 0.5525\n",
            "Epoch 12/20\n",
            "363/363 [==============================] - 2s 4ms/step - loss: 0.2966 - root_mean_squared_error: 0.5446 - val_loss: 0.3560 - val_root_mean_squared_error: 0.5967\n",
            "Epoch 13/20\n",
            "363/363 [==============================] - 2s 4ms/step - loss: 0.2891 - root_mean_squared_error: 0.5377 - val_loss: 0.2921 - val_root_mean_squared_error: 0.5404\n",
            "Epoch 14/20\n",
            "363/363 [==============================] - 1s 3ms/step - loss: 0.2878 - root_mean_squared_error: 0.5365 - val_loss: 0.2758 - val_root_mean_squared_error: 0.5251\n",
            "Epoch 15/20\n",
            "363/363 [==============================] - 1s 3ms/step - loss: 0.2840 - root_mean_squared_error: 0.5329 - val_loss: 0.2878 - val_root_mean_squared_error: 0.5365\n",
            "Epoch 16/20\n",
            "363/363 [==============================] - 1s 2ms/step - loss: 0.2831 - root_mean_squared_error: 0.5320 - val_loss: 0.3621 - val_root_mean_squared_error: 0.6018\n",
            "Epoch 17/20\n",
            "363/363 [==============================] - 1s 3ms/step - loss: 0.2811 - root_mean_squared_error: 0.5302 - val_loss: 0.5590 - val_root_mean_squared_error: 0.7477\n",
            "Epoch 18/20\n",
            "363/363 [==============================] - 1s 3ms/step - loss: 0.2753 - root_mean_squared_error: 0.5247 - val_loss: 0.2823 - val_root_mean_squared_error: 0.5313\n",
            "Epoch 19/20\n",
            "363/363 [==============================] - 1s 3ms/step - loss: 0.2737 - root_mean_squared_error: 0.5231 - val_loss: 0.2918 - val_root_mean_squared_error: 0.5402\n",
            "Epoch 20/20\n",
            "363/363 [==============================] - 1s 3ms/step - loss: 0.2750 - root_mean_squared_error: 0.5244 - val_loss: 0.3278 - val_root_mean_squared_error: 0.5726\n"
          ]
        }
      ]
    },
    {
      "cell_type": "code",
      "source": [
        " mse_test, rmse_test = model.evaluate(X_test, y_test)\n"
      ],
      "metadata": {
        "colab": {
          "base_uri": "https://localhost:8080/"
        },
        "id": "9cwrciuFzNKu",
        "outputId": "8bde9485-2069-4b7f-d998-f5840054de66"
      },
      "execution_count": 14,
      "outputs": [
        {
          "output_type": "stream",
          "name": "stdout",
          "text": [
            "162/162 [==============================] - 0s 2ms/step - loss: 0.2822 - root_mean_squared_error: 0.5312\n"
          ]
        }
      ]
    },
    {
      "cell_type": "code",
      "source": [
        "mse_test"
      ],
      "metadata": {
        "colab": {
          "base_uri": "https://localhost:8080/"
        },
        "id": "t30xGSl3zcWf",
        "outputId": "1ad973a6-2b3f-4806-debb-037fc82c52d8"
      },
      "execution_count": 15,
      "outputs": [
        {
          "output_type": "execute_result",
          "data": {
            "text/plain": [
              "0.2822147011756897"
            ]
          },
          "metadata": {},
          "execution_count": 15
        }
      ]
    },
    {
      "cell_type": "code",
      "source": [
        "rmse_test"
      ],
      "metadata": {
        "colab": {
          "base_uri": "https://localhost:8080/"
        },
        "id": "rCwynCBWzd_D",
        "outputId": "1882bf6e-157b-4a53-a01c-cf9d282f12c3"
      },
      "execution_count": 16,
      "outputs": [
        {
          "output_type": "execute_result",
          "data": {
            "text/plain": [
              "0.531238853931427"
            ]
          },
          "metadata": {},
          "execution_count": 16
        }
      ]
    },
    {
      "cell_type": "code",
      "source": [
        "X_new = X_test[:5]\n"
      ],
      "metadata": {
        "id": "a6eCKa6gzfF0"
      },
      "execution_count": 21,
      "outputs": []
    },
    {
      "cell_type": "code",
      "source": [
        "y_pred = model.predict(X_new)\n"
      ],
      "metadata": {
        "colab": {
          "base_uri": "https://localhost:8080/"
        },
        "id": "6U3Rbq1Rzhxm",
        "outputId": "2b95153f-7512-4285-89ed-644abd595cef"
      },
      "execution_count": 22,
      "outputs": [
        {
          "output_type": "stream",
          "name": "stdout",
          "text": [
            "1/1 [==============================] - 0s 22ms/step\n"
          ]
        }
      ]
    },
    {
      "cell_type": "code",
      "source": [
        "y_pred"
      ],
      "metadata": {
        "colab": {
          "base_uri": "https://localhost:8080/"
        },
        "id": "IiuV1dLVzjib",
        "outputId": "ff05deb3-896a-4a82-85ea-64602df18962"
      },
      "execution_count": 23,
      "outputs": [
        {
          "output_type": "execute_result",
          "data": {
            "text/plain": [
              "array([[0.44199473],\n",
              "       [1.1471556 ],\n",
              "       [5.285645  ],\n",
              "       [2.5029194 ],\n",
              "       [2.8180127 ]], dtype=float32)"
            ]
          },
          "metadata": {},
          "execution_count": 23
        }
      ]
    },
    {
      "cell_type": "code",
      "source": [
        "y_test[:5]"
      ],
      "metadata": {
        "colab": {
          "base_uri": "https://localhost:8080/"
        },
        "id": "ugzAdTjrzlDS",
        "outputId": "72ac5892-0c13-4955-b7ce-afb59013f9d4"
      },
      "execution_count": 24,
      "outputs": [
        {
          "output_type": "execute_result",
          "data": {
            "text/plain": [
              "array([0.477  , 0.458  , 5.00001, 2.186  , 2.78   ])"
            ]
          },
          "metadata": {},
          "execution_count": 24
        }
      ]
    },
    {
      "cell_type": "code",
      "source": [],
      "metadata": {
        "id": "SXAMXxLKzrcA"
      },
      "execution_count": null,
      "outputs": []
    }
  ]
}